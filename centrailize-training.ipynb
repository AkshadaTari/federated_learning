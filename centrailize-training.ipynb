{
 "cells": [
  {
   "cell_type": "markdown",
   "id": "a56e08c4-ae9f-4372-b45a-d0c0f0402a69",
   "metadata": {},
   "source": [
    "# CNN for Alzheimer's disease detection"
   ]
  },
  {
   "cell_type": "markdown",
   "id": "d00db06a-f548-4887-bf4e-a335edced515",
   "metadata": {},
   "source": [
    "The CNN is trained to detect Alzheimer's disease. Given an MRI image of the brain, the CNN can classify it in one for the following classes based on severity  \n",
    "1. MildDemented\n",
    "2. VeryMildDemented\n",
    "3. NonDemented\n",
    "4. ModerateDemeneted\n",
    "   \n",
    "It is trained on \"Alzheimer MRI Preprocessed Dataset\" dataset from [kaggle](https://www.kaggle.com/datasets/sachinkumar413/alzheimer-mri-dataset/data) which contains total of 6400 images for 4 severity classes."
   ]
  },
  {
   "cell_type": "markdown",
   "id": "d9f43c01-2083-4188-be29-72d742af8c3e",
   "metadata": {},
   "source": [
    "## Clone source code repository (run only on collab)"
   ]
  },
  {
   "cell_type": "code",
   "execution_count": null,
   "id": "d60ebe5f-3c08-4cb7-a2a1-c8986c241380",
   "metadata": {},
   "outputs": [],
   "source": [
    "! git clone https://github.com/svghadi/simple-cnn.git\n",
    "%cd simple-cnn\n",
    "%ls"
   ]
  },
  {
   "cell_type": "markdown",
   "id": "bff87c4c-ae56-464a-80a1-0fb0992f4ce5",
   "metadata": {},
   "source": [
    "## Import deps"
   ]
  },
  {
   "cell_type": "code",
   "execution_count": 1,
   "id": "0832778b-43b8-480c-8166-a92c3f39d53a",
   "metadata": {},
   "outputs": [],
   "source": [
    "import os, sys\n",
    "from pathlib import Path\n",
    "import matplotlib.pyplot as plt\n",
    "import numpy as np \n",
    "import PIL \n",
    "from pathlib import Path\n",
    "import random\n",
    "import cv2\n",
    "import matplotlib.pyplot as plt\n",
    "\n",
    "import torch\n",
    "import torch.nn as nn\n",
    "import torchvision\n",
    "import torchvision.transforms as transforms\n",
    "\n",
    "# for reproducibility\n",
    "import torch, random, numpy as np\n",
    "torch.manual_seed(0)\n",
    "random.seed(0)\n",
    "np.random.seed(0)"
   ]
  },
  {
   "cell_type": "markdown",
   "id": "477f6ee8-1561-43f0-97c6-095f0b3049a2",
   "metadata": {},
   "source": [
    "## Dataset"
   ]
  },
  {
   "cell_type": "markdown",
   "id": "eb73ec16-9d0d-4f47-9e8b-ffc104a3ec19",
   "metadata": {},
   "source": [
    "The alzheimer's dataset from kaggle is downloaded and extracted in `datasets/centralize/alherimers` folder in the source code repository. Images for each severity class are present in their individual folders. Evaluation/test data is present in a separate `datasets/evalute` folder which is a 15% of overall alzheimer's dataset from kaggle.\n",
    "\n",
    "|Train Dataset|Evaluate Dataset|\n",
    "|:-:|:-:|\n",
    "![centralize_train_dataset](assets/centralize_train_dataset.png)|![evaluate dataset](assets/evaluate_dataset.png)\n",
    "\n",
    "|Dataset Samples|\n",
    "|:-:|\n",
    "|![dataset samples](assets/datatset-samples.png)|\n"
   ]
  },
  {
   "cell_type": "markdown",
   "id": "81c0f109-90e4-41b5-a314-31c22056f112",
   "metadata": {},
   "source": [
    "# CNN Model"
   ]
  },
  {
   "cell_type": "code",
   "execution_count": 2,
   "id": "b5b7ca43-43c9-4f68-a968-b8af681eac8a",
   "metadata": {},
   "outputs": [],
   "source": [
    "class ConvNeuralNet(nn.Module):\n",
    "\t#  Determine what layers and their order in CNN object \n",
    "    def __init__(self, num_classes):\n",
    "        super(ConvNeuralNet, self).__init__()\n",
    "        self.conv_layer1 = nn.Conv2d(in_channels=3, out_channels=32, kernel_size=3)\n",
    "        self.conv_layer2 = nn.Conv2d(in_channels=32, out_channels=32, kernel_size=3)\n",
    "        self.max_pool1 = nn.MaxPool2d(kernel_size = 2, stride = 2)\n",
    "        \n",
    "        self.conv_layer3 = nn.Conv2d(in_channels=32, out_channels=64, kernel_size=3)\n",
    "        self.conv_layer4 = nn.Conv2d(in_channels=64, out_channels=64, kernel_size=3)\n",
    "        self.max_pool2 = nn.MaxPool2d(kernel_size = 2, stride = 2)\n",
    "        \n",
    "        self.fc1 = nn.Linear(1600, 128)\n",
    "        self.relu1 = nn.ReLU()\n",
    "        self.fc2 = nn.Linear(128, num_classes)\n",
    "    \n",
    "    # Progresses data across layers    \n",
    "    def forward(self, x):\n",
    "        out = self.conv_layer1(x)\n",
    "        out = self.conv_layer2(out)\n",
    "        out = self.max_pool1(out)\n",
    "        \n",
    "        out = self.conv_layer3(out)\n",
    "        out = self.conv_layer4(out)\n",
    "        out = self.max_pool2(out)\n",
    "                \n",
    "        out = out.reshape(out.size(0), -1)\n",
    "        \n",
    "        out = self.fc1(out)\n",
    "        out = self.relu1(out)\n",
    "        out = self.fc2(out)\n",
    "        return out"
   ]
  },
  {
   "cell_type": "code",
   "execution_count": 3,
   "id": "d4b5b4eb-19f6-4131-9bcc-9f6f67e0b3ef",
   "metadata": {},
   "outputs": [
    {
     "name": "stdout",
     "output_type": "stream",
     "text": [
      "----------------------------------------------------------------\n",
      "        Layer (type)               Output Shape         Param #\n",
      "================================================================\n",
      "            Conv2d-1           [-1, 32, 30, 30]             896\n",
      "            Conv2d-2           [-1, 32, 28, 28]           9,248\n",
      "         MaxPool2d-3           [-1, 32, 14, 14]               0\n",
      "            Conv2d-4           [-1, 64, 12, 12]          18,496\n",
      "            Conv2d-5           [-1, 64, 10, 10]          36,928\n",
      "         MaxPool2d-6             [-1, 64, 5, 5]               0\n",
      "            Linear-7                  [-1, 128]         204,928\n",
      "              ReLU-8                  [-1, 128]               0\n",
      "            Linear-9                    [-1, 4]             516\n",
      "================================================================\n",
      "Total params: 271,012\n",
      "Trainable params: 271,012\n",
      "Non-trainable params: 0\n",
      "----------------------------------------------------------------\n",
      "Input size (MB): 0.01\n",
      "Forward/backward pass size (MB): 0.59\n",
      "Params size (MB): 1.03\n",
      "Estimated Total Size (MB): 1.64\n",
      "----------------------------------------------------------------\n"
     ]
    }
   ],
   "source": [
    "from torchsummary import summary\n",
    "summary(ConvNeuralNet(4), (3, 32, 32))"
   ]
  },
  {
   "cell_type": "markdown",
   "id": "32da00cd-cb92-4820-8a61-9339fb3e07d5",
   "metadata": {},
   "source": [
    "## Train & Evaluate Model"
   ]
  },
  {
   "cell_type": "markdown",
   "id": "1c2de8a5-0691-4d49-b615-e068d0f33e96",
   "metadata": {},
   "source": [
    "### Hyperparameters"
   ]
  },
  {
   "cell_type": "code",
   "execution_count": 4,
   "id": "f80a3a1f-a27b-4bb8-a392-51eaf5453ea2",
   "metadata": {},
   "outputs": [],
   "source": [
    "# Define relevant variables for the ML task\n",
    "batch_size = 32\n",
    "num_classes = 4\n",
    "learning_rate = 0.001\n",
    "\n",
    "# Device will determine whether to run the training on GPU or CPU.\n",
    "device = torch.device('cuda' if torch.cuda.is_available() else 'cpu')\n",
    "\n",
    "model = ConvNeuralNet(num_classes)\n",
    "\n",
    "# Set Loss function with criterion\n",
    "criterion = nn.CrossEntropyLoss()\n",
    "\n",
    "# Set optimizer with optimizer\n",
    "optimizer = torch.optim.SGD(model.parameters(), lr=learning_rate, momentum = 0.9)  \n",
    "\n",
    "#total_step = len(train_loader)"
   ]
  },
  {
   "cell_type": "markdown",
   "id": "54584562-6a8b-413c-8560-7049546ed214",
   "metadata": {},
   "source": [
    "### Load dataset"
   ]
  },
  {
   "cell_type": "code",
   "execution_count": 5,
   "id": "0c4a6b7f-3768-45ba-a69e-b07a6f1959ba",
   "metadata": {},
   "outputs": [],
   "source": [
    "#data directory\n",
    "train_data_dir = \"./datasets/centralize/alzheimers\"\n",
    "test_data_dir = \"./datasets/evaluate\"\n",
    "\n",
    "# Use transforms.compose method to reformat images for modeling,\n",
    "# and save to variable all_transforms for later use\n",
    "all_transforms = transforms.Compose([transforms.Resize((32,32)),\n",
    "                                     transforms.ToTensor(),\n",
    "                                     transforms.Normalize(mean=[0.4914, 0.4822, 0.4465],\n",
    "                                                          std=[0.2023, 0.1994, 0.2010])\n",
    "                                     ])\n",
    "\n",
    "# load dataset\n",
    "train_dataset = torchvision.datasets.ImageFolder(root = train_data_dir, transform = all_transforms,)\n",
    "\n",
    "test_dataset = torchvision.datasets.ImageFolder(root = test_data_dir, transform = all_transforms,)\n",
    "\n",
    "# Instantiate loader objects to facilitate processing\n",
    "train_loader = torch.utils.data.DataLoader(dataset = train_dataset,\n",
    "                                           batch_size = batch_size,\n",
    "                                           shuffle = True)\n",
    "\n",
    "\n",
    "test_loader = torch.utils.data.DataLoader(dataset = test_dataset,\n",
    "                                           batch_size = batch_size,\n",
    "                                           shuffle = True)"
   ]
  },
  {
   "cell_type": "markdown",
   "id": "d0bb72a8-a749-454f-99fc-b6e28ebfa495",
   "metadata": {},
   "source": [
    "### Training"
   ]
  },
  {
   "cell_type": "code",
   "execution_count": 6,
   "id": "439b5264-b081-44f2-ac9f-b1a9a0c7717d",
   "metadata": {},
   "outputs": [
    {
     "name": "stdout",
     "output_type": "stream",
     "text": [
      "Epoch [1/70], Training Loss: 1.0235, Training Acc: 51.77%\n",
      "Epoch [2/70], Training Loss: 0.9306, Training Acc: 54.61%\n",
      "Epoch [3/70], Training Loss: 0.9092, Training Acc: 55.98%\n",
      "Epoch [4/70], Training Loss: 0.8879, Training Acc: 57.20%\n",
      "Epoch [5/70], Training Loss: 0.8693, Training Acc: 58.44%\n",
      "Epoch [6/70], Training Loss: 0.8619, Training Acc: 58.56%\n",
      "Epoch [7/70], Training Loss: 0.8519, Training Acc: 59.54%\n",
      "Epoch [8/70], Training Loss: 0.8296, Training Acc: 61.47%\n",
      "Epoch [9/70], Training Loss: 0.8093, Training Acc: 62.67%\n",
      "Epoch [10/70], Training Loss: 0.8144, Training Acc: 62.28%\n",
      "Epoch [11/70], Training Loss: 0.7783, Training Acc: 64.20%\n",
      "Epoch [12/70], Training Loss: 0.7630, Training Acc: 65.21%\n",
      "Epoch [13/70], Training Loss: 0.7506, Training Acc: 66.16%\n",
      "Epoch [14/70], Training Loss: 0.7084, Training Acc: 68.02%\n",
      "Epoch [15/70], Training Loss: 0.6803, Training Acc: 68.72%\n",
      "Epoch [16/70], Training Loss: 0.6330, Training Acc: 72.28%\n",
      "Epoch [17/70], Training Loss: 0.6062, Training Acc: 73.82%\n",
      "Epoch [18/70], Training Loss: 0.5616, Training Acc: 75.56%\n",
      "Epoch [19/70], Training Loss: 0.5189, Training Acc: 78.12%\n",
      "Epoch [20/70], Training Loss: 0.4749, Training Acc: 80.46%\n",
      "Epoch [21/70], Training Loss: 0.4374, Training Acc: 82.12%\n",
      "Epoch [22/70], Training Loss: 0.3923, Training Acc: 83.92%\n",
      "Epoch [23/70], Training Loss: 0.3304, Training Acc: 86.75%\n",
      "Epoch [24/70], Training Loss: 0.2710, Training Acc: 89.80%\n",
      "Epoch [25/70], Training Loss: 0.2081, Training Acc: 92.40%\n",
      "Epoch [26/70], Training Loss: 0.2430, Training Acc: 90.62%\n",
      "Epoch [27/70], Training Loss: 0.1814, Training Acc: 93.32%\n",
      "Epoch [28/70], Training Loss: 0.1788, Training Acc: 93.22%\n",
      "Epoch [29/70], Training Loss: 0.1329, Training Acc: 95.20%\n",
      "Epoch [30/70], Training Loss: 0.0956, Training Acc: 96.75%\n",
      "Epoch [31/70], Training Loss: 0.0816, Training Acc: 97.17%\n",
      "Epoch [32/70], Training Loss: 0.0731, Training Acc: 97.47%\n",
      "Epoch [33/70], Training Loss: 0.0678, Training Acc: 97.73%\n",
      "Epoch [34/70], Training Loss: 0.0376, Training Acc: 98.95%\n",
      "Epoch [35/70], Training Loss: 0.0727, Training Acc: 97.29%\n",
      "Epoch [36/70], Training Loss: 0.1320, Training Acc: 95.15%\n",
      "Epoch [37/70], Training Loss: 0.0481, Training Acc: 98.38%\n",
      "Epoch [38/70], Training Loss: 0.0150, Training Acc: 99.56%\n",
      "Epoch [39/70], Training Loss: 0.0045, Training Acc: 99.96%\n",
      "Epoch [40/70], Training Loss: 0.0028, Training Acc: 100.00%\n",
      "Epoch [41/70], Training Loss: 0.0020, Training Acc: 100.00%\n",
      "Epoch [42/70], Training Loss: 0.0015, Training Acc: 100.00%\n",
      "Epoch [43/70], Training Loss: 0.0013, Training Acc: 100.00%\n",
      "Epoch [44/70], Training Loss: 0.0011, Training Acc: 100.00%\n",
      "Epoch [45/70], Training Loss: 0.0010, Training Acc: 100.00%\n",
      "Epoch [46/70], Training Loss: 0.0009, Training Acc: 100.00%\n",
      "Epoch [47/70], Training Loss: 0.0008, Training Acc: 100.00%\n",
      "Epoch [48/70], Training Loss: 0.0007, Training Acc: 100.00%\n",
      "Epoch [49/70], Training Loss: 0.0007, Training Acc: 100.00%\n",
      "Epoch [50/70], Training Loss: 0.0006, Training Acc: 100.00%\n",
      "Epoch [51/70], Training Loss: 0.0006, Training Acc: 100.00%\n",
      "Epoch [52/70], Training Loss: 0.0006, Training Acc: 100.00%\n",
      "Epoch [53/70], Training Loss: 0.0005, Training Acc: 100.00%\n",
      "Epoch [54/70], Training Loss: 0.0005, Training Acc: 100.00%\n",
      "Epoch [55/70], Training Loss: 0.0005, Training Acc: 100.00%\n",
      "Epoch [56/70], Training Loss: 0.0004, Training Acc: 100.00%\n",
      "Epoch [57/70], Training Loss: 0.0004, Training Acc: 100.00%\n",
      "Epoch [58/70], Training Loss: 0.0004, Training Acc: 100.00%\n",
      "Epoch [59/70], Training Loss: 0.0004, Training Acc: 100.00%\n",
      "Epoch [60/70], Training Loss: 0.0004, Training Acc: 100.00%\n",
      "Epoch [61/70], Training Loss: 0.0003, Training Acc: 100.00%\n",
      "Epoch [62/70], Training Loss: 0.0003, Training Acc: 100.00%\n",
      "Epoch [63/70], Training Loss: 0.0003, Training Acc: 100.00%\n",
      "Epoch [64/70], Training Loss: 0.0003, Training Acc: 100.00%\n",
      "Epoch [65/70], Training Loss: 0.0003, Training Acc: 100.00%\n",
      "Epoch [66/70], Training Loss: 0.0003, Training Acc: 100.00%\n",
      "Epoch [67/70], Training Loss: 0.0003, Training Acc: 100.00%\n",
      "Epoch [68/70], Training Loss: 0.0003, Training Acc: 100.00%\n",
      "Epoch [69/70], Training Loss: 0.0003, Training Acc: 100.00%\n",
      "Epoch [70/70], Training Loss: 0.0003, Training Acc: 100.00%\n"
     ]
    }
   ],
   "source": [
    "num_epochs = 70\n",
    "\n",
    "loss_history = []\n",
    "acc_history = []\n",
    "# We use the pre-defined number of epochs to determine how many iterations to train the network on\n",
    "for epoch in range(num_epochs):\n",
    "    epoch_loss = []\n",
    "    epoch_acc = []\n",
    "\t#Load in the data in batches using the train_loader object\n",
    "    for i, (images, labels) in enumerate(train_loader):  \n",
    "        # Move tensors to the configured device\n",
    "        images = images.to(device)\n",
    "        labels = labels.to(device)\n",
    "        \n",
    "        # Forward pass\n",
    "        outputs = model(images)\n",
    "        loss = criterion(outputs, labels)\n",
    "        \n",
    "        # Backward and optimize\n",
    "        optimizer.zero_grad()\n",
    "        loss.backward()\n",
    "        optimizer.step()\n",
    "\n",
    "        # log training loss & accuracy\n",
    "        epoch_loss.append(loss.item())\n",
    "        _, predicted = torch.max(outputs.data, 1)\n",
    "        total = labels.size(0)\n",
    "        correct = (predicted == labels).sum().item()\n",
    "        epoch_acc.append(100 * correct / total)\n",
    "\n",
    "    avg_loss = sum(epoch_loss) / len(epoch_loss)\n",
    "    avg_acc = sum(epoch_acc) / len(epoch_acc)\n",
    "    loss_history.append(avg_loss)\n",
    "    acc_history.append(avg_acc)\n",
    "        \n",
    "\n",
    "    print('Epoch [{}/{}], Training Loss: {:.4f}, Training Acc: {:.2f}%'.format(epoch+1, num_epochs, avg_loss, avg_acc))"
   ]
  },
  {
   "cell_type": "markdown",
   "id": "cf69f6e6-b570-4ec5-93fd-9e2568e39939",
   "metadata": {},
   "source": [
    "#### Loss vs. No. of epochs"
   ]
  },
  {
   "cell_type": "code",
   "execution_count": 7,
   "id": "9dca9d5b-db4d-43ca-835f-d02035f70d13",
   "metadata": {},
   "outputs": [
    {
     "data": {
      "image/png": "[encoded data removed]",
      "text/plain": [
       "<Figure size 640x480 with 1 Axes>"
      ]
     },
     "metadata": {},
     "output_type": "display_data"
    }
   ],
   "source": [
    "plt.plot(loss_history, '-x')\n",
    "plt.xlabel('epoch')\n",
    "plt.ylabel('loss')\n",
    "plt.title('Loss vs. No. of epochs');"
   ]
  },
  {
   "cell_type": "markdown",
   "id": "0b9f5715-f6ff-449a-aa7b-3104acc538bc",
   "metadata": {},
   "source": [
    "#### Training Accuracy vs. No. of epochs"
   ]
  },
  {
   "cell_type": "code",
   "execution_count": 8,
   "id": "d8fadf67-1bb2-4a8c-b286-b76eb5217a38",
   "metadata": {},
   "outputs": [
    {
     "data": {
      "text/plain": [
       "Text(0.5, 1.0, 'Training Accuracy vs. No. of epochs')"
      ]
     },
     "execution_count": 8,
     "metadata": {},
     "output_type": "execute_result"
    },
    {
     "data": {
      "image/png": "[encoded data removed]",
      "text/plain": [
       "<Figure size 640x480 with 1 Axes>"
      ]
     },
     "metadata": {},
     "output_type": "display_data"
    }
   ],
   "source": [
    "plt.plot(acc_history, '-x')\n",
    "plt.xlabel('epoch')\n",
    "plt.ylabel('training accuracy')\n",
    "plt.title('Training Accuracy vs. No. of epochs')"
   ]
  },
  {
   "cell_type": "markdown",
   "id": "ad1c6656-223a-4399-8a92-138fc867db70",
   "metadata": {},
   "source": [
    "### Testing"
   ]
  },
  {
   "cell_type": "code",
   "execution_count": 9,
   "id": "1a93b659-3c7c-4838-89d5-db75c030a496",
   "metadata": {},
   "outputs": [
    {
     "name": "stdout",
     "output_type": "stream",
     "text": [
      "Accuracy of the network on unseen 918 images: 94.77 %\n"
     ]
    }
   ],
   "source": [
    "train_acc = 0\n",
    "with torch.no_grad():\n",
    "    correct = 0\n",
    "    total = 0\n",
    "    for images, labels in test_loader:\n",
    "        images = images.to(device)\n",
    "        labels = labels.to(device)\n",
    "        outputs = model(images)\n",
    "        _, predicted = torch.max(outputs.data, 1)\n",
    "        total += labels.size(0)\n",
    "        correct += (predicted == labels).sum().item()\n",
    "\n",
    "    train_acc = 100 * correct / total\n",
    "    print('Accuracy of the network on unseen {} images: {:.2f} %'.format(len(test_loader.dataset), train_acc))\n"
   ]
  },
  {
   "cell_type": "markdown",
   "id": "e3af255e-19f6-4fb4-bfee-e1923c91af9c",
   "metadata": {},
   "source": [
    "### Log model accuracy"
   ]
  },
  {
   "cell_type": "code",
   "execution_count": 10,
   "id": "ef072476-7579-486f-b612-60564c122d5a",
   "metadata": {},
   "outputs": [
    {
     "name": "stdout",
     "output_type": "stream",
     "text": [
      "[Errno 2] No such file or directory: 'reports/aggr_results.pkl'\n",
      "+------------+------------+\n",
      "|    Aggr    | Test Acc % |\n",
      "+------------+------------+\n",
      "| Centralize |   94.77    |\n",
      "+------------+------------+\n"
     ]
    }
   ],
   "source": [
    "import pickle \n",
    "from prettytable import PrettyTable\n",
    "\n",
    "aggr_results={}\n",
    "try: \n",
    "    with open('reports/aggr_results.pkl', 'rb') as f:\n",
    "        aggr_results = pickle.load(f)\n",
    "except Exception as e:\n",
    "    print(e)\n",
    "    aggr_results={}\n",
    "    \n",
    "with open('reports/aggr_results.pkl', 'wb') as f:\n",
    "    aggr_results[\"Centralize\"] = {\n",
    "        \"avg_test_acc\": train_acc,\n",
    "        }\n",
    "    pickle.dump(aggr_results, f)\n",
    "    \n",
    "table = PrettyTable()\n",
    "table.field_names = [\"Aggr\", \"Test Acc %\"]\n",
    "for k,v in aggr_results.items():\n",
    "    table.add_row([k, \"{:.2f}\".format(v[\"avg_test_acc\"])])\n",
    "print(table)\n",
    "with open('reports/aggr_results_table.txt', 'w') as f:\n",
    "    f.write(table.get_string())"
   ]
  },
  {
   "cell_type": "code",
   "execution_count": null,
   "id": "f3e26657-a2f3-449f-b80a-b879337cd441",
   "metadata": {},
   "outputs": [],
   "source": []
  }
 ],
 "metadata": {
  "kernelspec": {
   "display_name": "Python 3 (ipykernel)",
   "language": "python",
   "name": "python3"
  },
  "language_info": {
   "codemirror_mode": {
    "name": "ipython",
    "version": 3
   },
   "file_extension": ".py",
   "mimetype": "text/x-python",
   "name": "python",
   "nbconvert_exporter": "python",
   "pygments_lexer": "ipython3",
   "version": "3.11.6"
  }
 },
 "nbformat": 4,
 "nbformat_minor": 5
}
